{
 "cells": [
  {
   "cell_type": "code",
   "execution_count": 9,
   "id": "712d9e76",
   "metadata": {},
   "outputs": [
    {
     "name": "stdout",
     "output_type": "stream",
     "text": [
      "5\n",
      "Guess the number between 1 and 107\n",
      "number is greater \n",
      "Guess the number between 1 and 106\n",
      "number is greater \n",
      "Guess the number between 1 and 105\n",
      "guessed correctly\n"
     ]
    }
   ],
   "source": [
    "import random\n",
    "\n",
    "def guess(x):\n",
    "    random_no = random.randint(1,x)\n",
    "    print(random_no)\n",
    "    guess = 0\n",
    "    while  guess != random_no:\n",
    "        guess = int(input(f'Guess the number between 1 and {x}'))\n",
    "        if guess < random_no:\n",
    "            print(\"number entered is smaller \")\n",
    "        elif guess > random_no:\n",
    "            print(\"number is greater \")\n",
    "        else:\n",
    "            print(\"guessed correctly\")\n",
    "        \n",
    "guess(10)    \n",
    "    \n",
    "    "
   ]
  },
  {
   "cell_type": "code",
   "execution_count": null,
   "id": "c05adfd5",
   "metadata": {},
   "outputs": [],
   "source": []
  },
  {
   "cell_type": "code",
   "execution_count": null,
   "id": "77f8575f",
   "metadata": {},
   "outputs": [],
   "source": []
  }
 ],
 "metadata": {
  "kernelspec": {
   "display_name": "Python 3 (ipykernel)",
   "language": "python",
   "name": "python3"
  },
  "language_info": {
   "codemirror_mode": {
    "name": "ipython",
    "version": 3
   },
   "file_extension": ".py",
   "mimetype": "text/x-python",
   "name": "python",
   "nbconvert_exporter": "python",
   "pygments_lexer": "ipython3",
   "version": "3.9.13"
  }
 },
 "nbformat": 4,
 "nbformat_minor": 5
}
